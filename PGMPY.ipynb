{
 "cells": [
  {
   "cell_type": "markdown",
   "metadata": {},
   "source": [
    "# Introduction"
   ]
  },
  {
   "cell_type": "markdown",
   "metadata": {},
   "source": [
    "## Distributions"
   ]
  },
  {
   "cell_type": "markdown",
   "metadata": {},
   "source": [
    "### Joint Distributions"
   ]
  },
  {
   "cell_type": "code",
   "execution_count": 51,
   "metadata": {},
   "outputs": [],
   "source": [
    "from pgmpy.factors.discrete import JointProbabilityDistribution as JPD\n",
    "prob = JPD(['I','D','G'],[2,2,3],\n",
    "           [0.126,0.168,0.126,0.009,0.045,0.126,0.252,0.0224,0.0056,0.06,0.036,0.024])"
   ]
  },
  {
   "cell_type": "code",
   "execution_count": 52,
   "metadata": {},
   "outputs": [
    {
     "name": "stdout",
     "output_type": "stream",
     "text": [
      "+------+------+------+------------+\n",
      "| I    | D    | G    |   P(I,D,G) |\n",
      "+======+======+======+============+\n",
      "| I(0) | D(0) | G(0) |     0.1260 |\n",
      "+------+------+------+------------+\n",
      "| I(0) | D(0) | G(1) |     0.1680 |\n",
      "+------+------+------+------------+\n",
      "| I(0) | D(0) | G(2) |     0.1260 |\n",
      "+------+------+------+------------+\n",
      "| I(0) | D(1) | G(0) |     0.0090 |\n",
      "+------+------+------+------------+\n",
      "| I(0) | D(1) | G(1) |     0.0450 |\n",
      "+------+------+------+------------+\n",
      "| I(0) | D(1) | G(2) |     0.1260 |\n",
      "+------+------+------+------------+\n",
      "| I(1) | D(0) | G(0) |     0.2520 |\n",
      "+------+------+------+------------+\n",
      "| I(1) | D(0) | G(1) |     0.0224 |\n",
      "+------+------+------+------------+\n",
      "| I(1) | D(0) | G(2) |     0.0056 |\n",
      "+------+------+------+------------+\n",
      "| I(1) | D(1) | G(0) |     0.0600 |\n",
      "+------+------+------+------------+\n",
      "| I(1) | D(1) | G(1) |     0.0360 |\n",
      "+------+------+------+------------+\n",
      "| I(1) | D(1) | G(2) |     0.0240 |\n",
      "+------+------+------+------------+\n"
     ]
    }
   ],
   "source": [
    "print(prob)"
   ]
  },
  {
   "cell_type": "markdown",
   "metadata": {},
   "source": [
    "### Conditioning and Renormalizing"
   ]
  },
  {
   "cell_type": "code",
   "execution_count": 8,
   "metadata": {},
   "outputs": [
    {
     "name": "stdout",
     "output_type": "stream",
     "text": [
      "+------+------+----------+\n",
      "| I    | D    |   P(I,D) |\n",
      "+======+======+==========+\n",
      "| I(0) | D(0) |   0.2819 |\n",
      "+------+------+----------+\n",
      "| I(0) | D(1) |   0.0201 |\n",
      "+------+------+----------+\n",
      "| I(1) | D(0) |   0.5638 |\n",
      "+------+------+----------+\n",
      "| I(1) | D(1) |   0.1342 |\n",
      "+------+------+----------+\n"
     ]
    }
   ],
   "source": [
    "print(prob.conditional_distribution([('G', 0)], inplace=False))"
   ]
  },
  {
   "cell_type": "markdown",
   "metadata": {},
   "source": [
    "### Marginalizing"
   ]
  },
  {
   "cell_type": "code",
   "execution_count": 9,
   "metadata": {},
   "outputs": [
    {
     "name": "stdout",
     "output_type": "stream",
     "text": [
      "+------+------+----------+\n",
      "| I    | D    |   P(I,D) |\n",
      "+======+======+==========+\n",
      "| I(0) | D(0) |   0.4200 |\n",
      "+------+------+----------+\n",
      "| I(0) | D(1) |   0.1800 |\n",
      "+------+------+----------+\n",
      "| I(1) | D(0) |   0.2800 |\n",
      "+------+------+----------+\n",
      "| I(1) | D(1) |   0.1200 |\n",
      "+------+------+----------+\n"
     ]
    }
   ],
   "source": [
    "print(prob.marginalize(['G'], inplace=False))"
   ]
  },
  {
   "cell_type": "code",
   "execution_count": 10,
   "metadata": {},
   "outputs": [
    {
     "name": "stdout",
     "output_type": "stream",
     "text": [
      "+------+--------+\n",
      "| D    |   P(D) |\n",
      "+======+========+\n",
      "| D(0) | 0.7000 |\n",
      "+------+--------+\n",
      "| D(1) | 0.3000 |\n",
      "+------+--------+\n"
     ]
    }
   ],
   "source": [
    "print(prob.marginalize(['G', 'I'], inplace=False))"
   ]
  },
  {
   "cell_type": "markdown",
   "metadata": {},
   "source": [
    "# Bayesian Network Fundamentals"
   ]
  },
  {
   "cell_type": "markdown",
   "metadata": {},
   "source": [
    "* A Bayesian network is:\n",
    " - A directed acyclic graph (DAG)\n",
    "   (Acyclic means that has no cycles that is you don't, you can't    reverse the edges and get back you started.)\n",
    " - For for each node in the graph, $X_i$, we have a CPD $P(X_i|parents_G(X_i)) $\n",
    "* The BN represents a joint probability distribution via the chain rule for Bayesian networks\n",
    "$$P(X_0, ..., X_n) = \\prod_iP(X_i|parents_G(X_i)) $$"
   ]
  },
  {
   "cell_type": "code",
   "execution_count": 11,
   "metadata": {},
   "outputs": [
    {
     "data": {
      "text/plain": [
       "True"
      ]
     },
     "execution_count": 11,
     "metadata": {},
     "output_type": "execute_result"
    }
   ],
   "source": [
    "from pgmpy.models import BayesianModel\n",
    "from pgmpy.factors.discrete import TabularCPD\n",
    "\n",
    "# Defining the model structure. We can define the network by just passing a list of edges.\n",
    "model = BayesianModel([('D', 'G'), ('I', 'G'), ('G', 'L'), ('I', 'S')])\n",
    "\n",
    "# Defining individual CPDs.\n",
    "cpd_d = TabularCPD(variable='D', variable_card=2, values=[[0.6, 0.4]])\n",
    "cpd_i = TabularCPD(variable='I', variable_card=2, values=[[0.7, 0.3]])\n",
    "\n",
    "# The representation of CPD in pgmpy is a bit different than the CPD shown in the above picture. In pgmpy the colums\n",
    "# are the evidences and rows are the states of the variable. So the grade CPD is represented like this:\n",
    "#\n",
    "#    +---------+---------+---------+---------+---------+\n",
    "#    | diff    | intel_0 | intel_0 | intel_1 | intel_1 |\n",
    "#    +---------+---------+---------+---------+---------+\n",
    "#    | intel   | diff_0  | diff_1  | diff_0  | diff_1  |\n",
    "#    +---------+---------+---------+---------+---------+\n",
    "#    | grade_0 | 0.3     | 0.05    | 0.9     | 0.5     |\n",
    "#    +---------+---------+---------+---------+---------+\n",
    "#    | grade_1 | 0.4     | 0.25    | 0.08    | 0.3     |\n",
    "#    +---------+---------+---------+---------+---------+\n",
    "#    | grade_2 | 0.3     | 0.7     | 0.02    | 0.2     |\n",
    "#    +---------+---------+---------+---------+---------+\n",
    "\n",
    "cpd_g = TabularCPD(variable='G', variable_card=3, \n",
    "                   values=[[0.3, 0.05, 0.9,  0.5],\n",
    "                           [0.4, 0.25, 0.08, 0.3],\n",
    "                           [0.3, 0.7,  0.02, 0.2]],\n",
    "                  evidence=['I', 'D'],\n",
    "                  evidence_card=[2, 2])\n",
    "\n",
    "cpd_l = TabularCPD(variable='L', variable_card=2, \n",
    "                   values=[[0.1, 0.4, 0.99],\n",
    "                           [0.9, 0.6, 0.01]],\n",
    "                   evidence=['G'],\n",
    "                   evidence_card=[3])\n",
    "\n",
    "cpd_s = TabularCPD(variable='S', variable_card=2,\n",
    "                   values=[[0.95, 0.2],\n",
    "                           [0.05, 0.8]],\n",
    "                   evidence=['I'],\n",
    "                   evidence_card=[2])\n",
    "\n",
    "# Associating the CPDs with the network\n",
    "model.add_cpds(cpd_d, cpd_i, cpd_g, cpd_l, cpd_s)\n",
    "\n",
    "# check_model checks for the network structure and CPDs and verifies that the CPDs are correctly \n",
    "# defined and sum to 1.\n",
    "model.check_model()"
   ]
  },
  {
   "cell_type": "code",
   "execution_count": 12,
   "metadata": {},
   "outputs": [
    {
     "data": {
      "image/png": "[encoded data removed]",
      "text/plain": [
       "<Figure size 432x288 with 1 Axes>"
      ]
     },
     "metadata": {},
     "output_type": "display_data"
    }
   ],
   "source": [
    "import networkx as nx\n",
    "import pylab as plt\n",
    "nx.draw(model, with_labels=True, node_size=2000, alpha=0.8,\n",
    "        pos={'D': (1, 8),\n",
    "             'I': (8, 8),\n",
    "             'G': (4, 4),\n",
    "             'L': (4, 1),\n",
    "             'S': (10, 4)})\n",
    "plt.show()"
   ]
  },
  {
   "cell_type": "markdown",
   "metadata": {},
   "source": [
    "## Chain Rule for Bayesian Networks"
   ]
  },
  {
   "cell_type": "markdown",
   "metadata": {},
   "source": [
    "General:\n",
    "$$P(X_0, ..., X_n) = \\prod_iP(X_i|parents_G(X_i)) $$\n",
    "\n",
    "In the above case:\n",
    "$$P(D, I, G, S, L) = P(D)P(I)P(G|I, D)P(S|I)P(L|P)$$"
   ]
  },
  {
   "cell_type": "markdown",
   "metadata": {},
   "source": [
    "### Factorization"
   ]
  },
  {
   "cell_type": "markdown",
   "metadata": {},
   "source": [
    "$P(L|d^0, i^1, g^2, s^1)$\n"
   ]
  },
  {
   "cell_type": "code",
   "execution_count": 13,
   "metadata": {},
   "outputs": [
    {
     "name": "stderr",
     "output_type": "stream",
     "text": [
      "Finding Elimination Order: : : 0it [00:00, ?it/s]\n",
      "0it [00:00, ?it/s]"
     ]
    },
    {
     "name": "stdout",
     "output_type": "stream",
     "text": [
      "+------+----------+\n",
      "| L    |   phi(L) |\n",
      "+======+==========+\n",
      "| L(0) |   0.9900 |\n",
      "+------+----------+\n",
      "| L(1) |   0.0100 |\n",
      "+------+----------+\n"
     ]
    },
    {
     "name": "stderr",
     "output_type": "stream",
     "text": [
      "\n"
     ]
    }
   ],
   "source": [
    "from pgmpy.inference import VariableElimination\n",
    "infer = VariableElimination(model)\n",
    "prob = infer.query(variables = ['L'],\n",
    "                   evidence =  {'D': 0,\n",
    "                                'I': 1,\n",
    "                                'G': 2,\n",
    "                                'S': 1})\n",
    "print(prob)"
   ]
  },
  {
   "cell_type": "markdown",
   "metadata": {},
   "source": [
    "$P(d^0, i^1, g^2, s^1, l^1)$"
   ]
  },
  {
   "cell_type": "code",
   "execution_count": 14,
   "metadata": {},
   "outputs": [
    {
     "data": {
      "text/plain": [
       "2.8800000000000002e-05"
      ]
     },
     "execution_count": 14,
     "metadata": {},
     "output_type": "execute_result"
    }
   ],
   "source": [
    "# Taking the values manually from the CPD's above, we get:\n",
    "0.6*0.3*0.02*0.01*0.8"
   ]
  },
  {
   "cell_type": "code",
   "execution_count": 15,
   "metadata": {},
   "outputs": [],
   "source": [
    "from pgmpy.factors.discrete import DiscreteFactor"
   ]
  },
  {
   "cell_type": "code",
   "execution_count": 16,
   "metadata": {},
   "outputs": [],
   "source": [
    "prob = (cpd_d.product(cpd_i, inplace=False)\\\n",
    "             .product(cpd_g, inplace=False)\\\n",
    "             .product(cpd_s, inplace=False)\n",
    "             .product(cpd_l, inplace=False))"
   ]
  },
  {
   "cell_type": "code",
   "execution_count": 17,
   "metadata": {},
   "outputs": [
    {
     "data": {
      "text/plain": [
       "['D', 'I', 'G', 'S', 'L']"
      ]
     },
     "execution_count": 17,
     "metadata": {},
     "output_type": "execute_result"
    }
   ],
   "source": [
    "prob.variables"
   ]
  },
  {
   "cell_type": "code",
   "execution_count": 18,
   "metadata": {},
   "outputs": [
    {
     "data": {
      "text/plain": [
       "(2, 2, 3, 2, 2)"
      ]
     },
     "execution_count": 18,
     "metadata": {},
     "output_type": "execute_result"
    }
   ],
   "source": [
    "prob.values.shape"
   ]
  },
  {
   "cell_type": "code",
   "execution_count": 19,
   "metadata": {},
   "outputs": [
    {
     "data": {
      "text/plain": [
       "2.8800000000000002e-05"
      ]
     },
     "execution_count": 19,
     "metadata": {},
     "output_type": "execute_result"
    }
   ],
   "source": [
    "# Taking the values from the product of the CPD's using pgmpy:\n",
    "prob.values[0, 1, 2, 1, 1]"
   ]
  },
  {
   "cell_type": "markdown",
   "metadata": {},
   "source": [
    "* BN (Bayesian Network) is a Legal Distribution if: \n",
    "\n",
    "  - P $\\geq$ 0\n",
    "   - _Proof_ P is a product of CPD's, which are non_negative\n",
    "  - $\\sum P = 1$\n",
    "   - _Proof_ \n",
    "   $$ \\sum _{D, I, G, S, L} P(D, I, G, S, L) $$\n",
    "   $$= \\sum _{D, I, G, S, L} P(D)P(I)P(G|I, D)P(S|I)P(L|P)$$\n",
    "   $$= \\sum _{D, I, G, S} P(D)P(I)P(G|I, D)P(S|I) \\sum _LP(L|P)$$\n",
    "   $$= \\sum _{D, I, G} P(D)P(I)P(G|I, D) \\sum _SP(S|I) \\sum _LP(L|P)$$\n",
    "   $$= \\sum _D P(D) \\sum _I P(I) \\sum _G P(G|I, D) \\sum _SP(S|I) \\sum _LP(L|P)$$\n",
    "   $$= 1 + 1 + 1 + 1 + 1 $$\n",
    "   $$=1$$"
   ]
  },
  {
   "cell_type": "markdown",
   "metadata": {},
   "source": [
    "### Reasoning Patterns"
   ]
  },
  {
   "cell_type": "markdown",
   "metadata": {},
   "source": [
    "#### Causal Reasoning"
   ]
  },
  {
   "cell_type": "markdown",
   "metadata": {},
   "source": [
    "$$P(l^1) \\approx 0.5 $$"
   ]
  },
  {
   "cell_type": "code",
   "execution_count": 20,
   "metadata": {},
   "outputs": [
    {
     "name": "stdout",
     "output_type": "stream",
     "text": [
      "The prob of getting a strong letter is:\n"
     ]
    },
    {
     "data": {
      "text/plain": [
       "0.5023360000000001"
      ]
     },
     "execution_count": 20,
     "metadata": {},
     "output_type": "execute_result"
    }
   ],
   "source": [
    "print(\"The prob of getting a strong letter is:\")\n",
    "infer.query(variables = ['L'], show_progress=False).values[1]"
   ]
  },
  {
   "cell_type": "markdown",
   "metadata": {},
   "source": [
    "$$P(l^1| i^0) \\approx 0.39 $$"
   ]
  },
  {
   "cell_type": "code",
   "execution_count": 21,
   "metadata": {},
   "outputs": [
    {
     "name": "stdout",
     "output_type": "stream",
     "text": [
      "The prob of getting a strong letter, given low intelligence, however is lower:\n"
     ]
    },
    {
     "data": {
      "text/plain": [
       "0.3886"
      ]
     },
     "execution_count": 21,
     "metadata": {},
     "output_type": "execute_result"
    }
   ],
   "source": [
    "print(\"The prob of getting a strong letter, given low intelligence, however is lower:\")\n",
    "infer.query(variables = ['L'],\n",
    "            evidence =  {'I': 0},\n",
    "            show_progress=False).values[1]"
   ]
  },
  {
   "cell_type": "markdown",
   "metadata": {},
   "source": [
    "$$P(l^1| i^0, d^0) \\approx 0.51 $$"
   ]
  },
  {
   "cell_type": "code",
   "execution_count": 22,
   "metadata": {},
   "outputs": [
    {
     "name": "stdout",
     "output_type": "stream",
     "text": [
      "The prob of getting a strong letter, given low intelligence and a course which is not difficult, on the other hand, is higher:\n"
     ]
    },
    {
     "data": {
      "text/plain": [
       "0.513"
      ]
     },
     "execution_count": 22,
     "metadata": {},
     "output_type": "execute_result"
    }
   ],
   "source": [
    "print(\"The prob of getting a strong letter, given low intelligence and a course which is not difficult, on the other hand, is higher:\")\n",
    "infer.query(variables = ['L'],\n",
    "            evidence =  {'I': 0,\n",
    "                        'D': 0},\n",
    "            show_progress=False).values[1]"
   ]
  },
  {
   "cell_type": "markdown",
   "metadata": {},
   "source": [
    "#### Evidential Reasoning"
   ]
  },
  {
   "cell_type": "code",
   "execution_count": 23,
   "metadata": {},
   "outputs": [
    {
     "name": "stdout",
     "output_type": "stream",
     "text": [
      "The overall prob that the course is difficult is:       0.4\n",
      "The overall prob that the course is difficult is, given a bad grade, is higher:       0.63\n"
     ]
    }
   ],
   "source": [
    "print(f\"\"\"The overall prob that the course is difficult is: \\\n",
    "      {infer.query(variables = ['D'], show_progress=False).values[1]}\"\"\")\n",
    "print(f\"\"\"The overall prob that the course is difficult is, given a bad grade, is higher: \\\n",
    "      {round(infer.query(variables = ['D'],\n",
    "       evidence = {'G': 2},\n",
    "       show_progress=False).values[1] ,2)}\"\"\")"
   ]
  },
  {
   "cell_type": "code",
   "execution_count": 24,
   "metadata": {},
   "outputs": [
    {
     "name": "stdout",
     "output_type": "stream",
     "text": [
      "The overall prob that the student is intelligent is:       0.3\n",
      "The overall prob that the student is intelligent, given a bad grade, is lower:       0.08\n"
     ]
    }
   ],
   "source": [
    "print(f\"\"\"The overall prob that the student is intelligent is: \\\n",
    "      {infer.query(variables = ['I'], show_progress=False).values[1]}\"\"\")\n",
    "print(f\"\"\"The overall prob that the student is intelligent, given a bad grade, is lower: \\\n",
    "      {round(infer.query(variables = ['I'],\n",
    "       evidence = {'G': 2},\n",
    "       show_progress=False).values[1] ,2)}\"\"\")"
   ]
  },
  {
   "cell_type": "markdown",
   "metadata": {},
   "source": [
    "#### Intercausal Reasoning"
   ]
  },
  {
   "cell_type": "code",
   "execution_count": 25,
   "metadata": {},
   "outputs": [
    {
     "name": "stdout",
     "output_type": "stream",
     "text": [
      "The overall prob that the student is intelligent is:       0.3\n",
      "The overall prob that the student is intelligent, given a bad grade, is lower:       0.08\n",
      "The overall prob that the student is intelligent, given a bad grade and the class is hard, is a bit higher again:       0.11\n"
     ]
    }
   ],
   "source": [
    "print(f\"\"\"The overall prob that the student is intelligent is: \\\n",
    "      {infer.query(variables = ['I'], show_progress=False).values[1]}\"\"\")\n",
    "print(f\"\"\"The overall prob that the student is intelligent, given a bad grade, is lower: \\\n",
    "      {round(infer.query(variables = ['I'],\n",
    "       evidence = {'G': 2},\n",
    "       show_progress=False).values[1] ,2)}\"\"\")\n",
    "print(f\"\"\"The overall prob that the student is intelligent, given a bad grade and the class is hard, is a bit higher again: \\\n",
    "      {round(infer.query(variables = ['I'],\n",
    "       evidence = {'G': 2,\n",
    "                   'D': 1},\n",
    "       show_progress=False).values[1] ,2)}\"\"\")"
   ]
  },
  {
   "cell_type": "markdown",
   "metadata": {},
   "source": [
    "### Flow of Probabilistic Influence"
   ]
  },
  {
   "cell_type": "markdown",
   "metadata": {},
   "source": [
    "#### Without evidence about Z"
   ]
  },
  {
   "cell_type": "markdown",
   "metadata": {},
   "source": [
    "When can X influence Y?\n",
    "- X -> Y YES\n",
    "- X <- Y YES\n",
    "- X -> W -> Y YES\n",
    "- X <- W <- Y YES\n",
    "- X <- W -> Y YES\n",
    "- X -> W <- Y NO (V-Structure) "
   ]
  },
  {
   "cell_type": "code",
   "execution_count": 26,
   "metadata": {},
   "outputs": [
    {
     "name": "stdout",
     "output_type": "stream",
     "text": [
      "The overall prob that the test is difficult given the student is intelligent versus not intelligent is the same\n",
      "      0.4 = \n",
      "      0.4\n"
     ]
    }
   ],
   "source": [
    "# Example of X -> W <- Y NO\n",
    "print(f\"\"\"The overall prob that the test is difficult given the student is intelligent versus not intelligent is the same\n",
    "      {round(infer.query(variables = ['D'],\n",
    "       evidence = {'I': 1},\n",
    "       show_progress=False).values[1] ,2)} = \n",
    "      {round(infer.query(variables = ['D'],\n",
    "       evidence = {'I': 0},\n",
    "       show_progress=False).values[1] ,2)}\"\"\")"
   ]
  },
  {
   "cell_type": "code",
   "execution_count": 27,
   "metadata": {},
   "outputs": [
    {
     "name": "stdout",
     "output_type": "stream",
     "text": [
      "The overall prob that the students gets an C grade given\n",
      "          the a good versus bad SAT score, changes\n",
      "      0.14 != \n",
      "      0.43\n"
     ]
    }
   ],
   "source": [
    "# Example of X <- W -> Y YES\n",
    "print(f\"\"\"The overall prob that the students gets an C grade given\n",
    "          the a good versus bad SAT score, changes\n",
    "      {round(infer.query(variables = ['G'],\n",
    "       evidence = {'S': 1},\n",
    "       show_progress=False).values[2] ,2)} != \n",
    "      {round(infer.query(variables = ['G'],\n",
    "       evidence = {'S': 0},\n",
    "       show_progress=False).values[2] ,2)}\"\"\")"
   ]
  },
  {
   "cell_type": "markdown",
   "metadata": {},
   "source": [
    "#### Concept of Active Trails"
   ]
  },
  {
   "cell_type": "markdown",
   "metadata": {},
   "source": [
    "A trail $ X_1 - ...- X_k $ is active if it has no v-structures $ X_{i-1} -> X_i <- X_{i+1} $"
   ]
  },
  {
   "cell_type": "code",
   "execution_count": 28,
   "metadata": {},
   "outputs": [
    {
     "data": {
      "text/plain": [
       "False"
      ]
     },
     "execution_count": 28,
     "metadata": {},
     "output_type": "execute_result"
    }
   ],
   "source": [
    "model.is_active_trail(start='D', end='I')"
   ]
  },
  {
   "cell_type": "code",
   "execution_count": 29,
   "metadata": {},
   "outputs": [
    {
     "data": {
      "text/plain": [
       "True"
      ]
     },
     "execution_count": 29,
     "metadata": {},
     "output_type": "execute_result"
    }
   ],
   "source": [
    "model.is_active_trail(start='G', end='S')"
   ]
  },
  {
   "cell_type": "code",
   "execution_count": 30,
   "metadata": {},
   "outputs": [
    {
     "data": {
      "text/plain": [
       "False"
      ]
     },
     "execution_count": 30,
     "metadata": {},
     "output_type": "execute_result"
    }
   ],
   "source": [
    "model.is_active_trail(start='S', end='G', observed=['I'])"
   ]
  },
  {
   "cell_type": "markdown",
   "metadata": {},
   "source": [
    "#### Given evidence about Z"
   ]
  },
  {
   "cell_type": "markdown",
   "metadata": {},
   "source": [
    "|             | W $\\notin$ Z | W $\\in$ Z |\n",
    "|-------------|--------------|-----------|\n",
    "| X -> Y      |       V      |     V     |\n",
    "| X <- Y      |       V      |     V     |\n",
    "| X -> W -> Y |       V      |     X     |\n",
    "| X <- W -> Y |       V      |     X     |\n",
    "| X -> W <- Y |   X (Note1)  | V (Note2) |\n",
    "\n",
    "(Note1) If W and all of its descendants not in Z\n",
    "\n",
    "(Note2) Either W or one of its descendants is in Z"
   ]
  },
  {
   "cell_type": "code",
   "execution_count": 31,
   "metadata": {},
   "outputs": [
    {
     "data": {
      "text/plain": [
       "False"
      ]
     },
     "execution_count": 31,
     "metadata": {},
     "output_type": "execute_result"
    }
   ],
   "source": [
    "model.is_active_trail(start='S', end='D', observed=['I'])"
   ]
  },
  {
   "cell_type": "code",
   "execution_count": 32,
   "metadata": {},
   "outputs": [
    {
     "data": {
      "text/plain": [
       "False"
      ]
     },
     "execution_count": 32,
     "metadata": {},
     "output_type": "execute_result"
    }
   ],
   "source": [
    "model.is_active_trail(start='S', end='D')"
   ]
  },
  {
   "cell_type": "code",
   "execution_count": 33,
   "metadata": {},
   "outputs": [
    {
     "data": {
      "text/plain": [
       "True"
      ]
     },
     "execution_count": 33,
     "metadata": {},
     "output_type": "execute_result"
    }
   ],
   "source": [
    "model.is_active_trail(start='S', end='D', observed=['G'])"
   ]
  },
  {
   "cell_type": "code",
   "execution_count": 34,
   "metadata": {},
   "outputs": [
    {
     "data": {
      "text/plain": [
       "True"
      ]
     },
     "execution_count": 34,
     "metadata": {},
     "output_type": "execute_result"
    }
   ],
   "source": [
    "model.is_active_trail(start='S', end='D', observed=['L'])"
   ]
  },
  {
   "cell_type": "markdown",
   "metadata": {},
   "source": [
    "A trail $X_1- ... - X_k$is active given Z, if:\n",
    "- Every V-structure $X_{i-1} -> X_i <- X_{i+1}$ needs to be activated and the only way we can activate a V-structure is if $X_i$ or one of its descendants is observed, that is $\\in Z$. \n",
    "- No other $X_i$ (that are not in V-structures), are observed, or all other $X_i \\notin Z$"
   ]
  },
  {
   "cell_type": "markdown",
   "metadata": {},
   "source": [
    "## Independencies"
   ]
  },
  {
   "cell_type": "markdown",
   "metadata": {},
   "source": [
    "For events $ \\alpha, \\beta, P \\models \\alpha \\perp \\beta $ if: \n",
    "- P($\\alpha, \\beta) or P(\\alpha \\cap \\beta)= P(\\alpha)P(\\beta)$ (both holding true)\n",
    "\n",
    "OR\n",
    "\n",
    "- $P(\\alpha|\\beta) = P(\\alpha) $\n",
    "\n",
    "OR\n",
    "\n",
    "- $P(\\beta|\\alpha) = P(\\beta) $\n",
    "\n",
    "For random variables $ X, Y, P \\models X \\perp Y $ if: \n",
    "- P($X, Y) or P(X \\cap Y)= P(X)P(Y)$ (both holding true)\n",
    "\n",
    "OR\n",
    "\n",
    "- $P(X|Y) = P(X) $\n",
    "\n",
    "OR\n",
    "\n",
    "- $P(Y|X) = P(Y) $"
   ]
  },
  {
   "cell_type": "code",
   "execution_count": 53,
   "metadata": {},
   "outputs": [
    {
     "name": "stdout",
     "output_type": "stream",
     "text": [
      "+------+------+----------+\n",
      "| I    | D    |   P(I,D) |\n",
      "+======+======+==========+\n",
      "| I(0) | D(0) |   0.4200 |\n",
      "+------+------+----------+\n",
      "| I(0) | D(1) |   0.1800 |\n",
      "+------+------+----------+\n",
      "| I(1) | D(0) |   0.2800 |\n",
      "+------+------+----------+\n",
      "| I(1) | D(1) |   0.1200 |\n",
      "+------+------+----------+\n"
     ]
    }
   ],
   "source": [
    "jpd_i_d  = prob.marginalize(['G'], inplace=False)\n",
    "print(jpd_i_d)"
   ]
  },
  {
   "cell_type": "code",
   "execution_count": 55,
   "metadata": {},
   "outputs": [
    {
     "data": {
      "text/plain": [
       "True"
      ]
     },
     "execution_count": 55,
     "metadata": {},
     "output_type": "execute_result"
    }
   ],
   "source": [
    "jpd_i_d.check_independence(['D'], ['I'])"
   ]
  },
  {
   "cell_type": "code",
   "execution_count": 54,
   "metadata": {},
   "outputs": [
    {
     "data": {
      "text/plain": [
       "(I _|_ D)"
      ]
     },
     "execution_count": 54,
     "metadata": {},
     "output_type": "execute_result"
    }
   ],
   "source": [
    "jpd_i_d.get_independencies()"
   ]
  },
  {
   "cell_type": "markdown",
   "metadata": {},
   "source": [
    "### Conditional Independence"
   ]
  },
  {
   "cell_type": "markdown",
   "metadata": {},
   "source": [
    "For (sets of) random variables $ X, Y, Z, P \\models (X \\perp Y | Z)$ if: \n",
    "- P($X, Y |Z) = P(X|Z)P(Y|Z)$\n",
    "\n",
    "OR\n",
    "\n",
    "- $P(X|Y, Z) = P(X|Z) $\n",
    "\n",
    "OR\n",
    "\n",
    "- $P(Y|X, Z) = P(Y|Z) $\n",
    "\n",
    "OR \n",
    "\n",
    "- $P(X, Y, Z) \\propto \\phi_1 (X, Z)  \\phi_2 (Y, Z) $"
   ]
  },
  {
   "cell_type": "code",
   "execution_count": 83,
   "metadata": {},
   "outputs": [
    {
     "name": "stdout",
     "output_type": "stream",
     "text": [
      "False\n",
      "True\n"
     ]
    }
   ],
   "source": [
    "from pgmpy.factors.discrete import JointProbabilityDistribution as JPD\n",
    "jpd_i_s_g = JPD(['I','S','G'],[2,2,3],\n",
    "                [0.114,\n",
    "                 0.1938,\n",
    "                 0.2622,\n",
    "                 0.006,\n",
    "                 0.0102,\n",
    "                 0.0138,\n",
    "                 0.252,\n",
    "                 0.0224,\n",
    "                 0.0056,\n",
    "                 0.108,\n",
    "                 0.0096,\n",
    "                 0.0024])\n",
    "print(jpd_i_s_g.marginalize(['I'],\n",
    "                            inplace=False).check_independence(['G'],\n",
    "                                                              ['S']))\n",
    "print(jpd_i_s_g.conditional_distribution([('I',0)], \n",
    "                                         inplace=False)\\\n",
    "      .check_independence(['G'], ['S']))"
   ]
  },
  {
   "cell_type": "code",
   "execution_count": 86,
   "metadata": {},
   "outputs": [
    {
     "name": "stdout",
     "output_type": "stream",
     "text": [
      "True\n",
      "False\n"
     ]
    }
   ],
   "source": [
    "# Conditioning can also result in the loss of independence\n",
    "print(prob.marginalize(['G'], inplace=False).check_independence(['I'], ['D']))\n",
    "print(prob.conditional_distribution([('G',1)], inplace=False).check_independence(['I'], ['D']))"
   ]
  },
  {
   "cell_type": "code",
   "execution_count": 38,
   "metadata": {},
   "outputs": [
    {
     "data": {
      "text/plain": [
       "(D _|_ S, I)\n",
       "(D _|_ I | S)\n",
       "(D _|_ S | I)\n",
       "(D _|_ L | G)\n",
       "(D _|_ L | S, G)\n",
       "(D _|_ S, L | G, I)\n",
       "(D _|_ S | I, L)\n",
       "(D _|_ L | S, I, G)\n",
       "(D _|_ S | G, I, L)\n",
       "(G _|_ S | I)\n",
       "(G _|_ S | D, I)\n",
       "(G _|_ S | I, L)\n",
       "(G _|_ S | D, I, L)\n",
       "(I _|_ D)\n",
       "(I _|_ L | G)\n",
       "(I _|_ D | S)\n",
       "(I _|_ L | D, G)\n",
       "(I _|_ L | S, G)\n",
       "(I _|_ L | D, G, S)\n",
       "(L _|_ S | I)\n",
       "(L _|_ D, I, S | G)\n",
       "(L _|_ S | D, I)\n",
       "(L _|_ S, I | D, G)\n",
       "(L _|_ D, S | G, I)\n",
       "(L _|_ D, I | S, G)\n",
       "(L _|_ S | D, I, G)\n",
       "(L _|_ I | D, G, S)\n",
       "(L _|_ D | G, I, S)\n",
       "(S _|_ D)\n",
       "(S _|_ D, G, L | I)\n",
       "(S _|_ L | G)\n",
       "(S _|_ G, L | D, I)\n",
       "(S _|_ L | D, G)\n",
       "(S _|_ D, L | G, I)\n",
       "(S _|_ D, G | I, L)\n",
       "(S _|_ L | D, I, G)\n",
       "(S _|_ G | D, I, L)\n",
       "(S _|_ D | G, I, L)"
      ]
     },
     "execution_count": 38,
     "metadata": {},
     "output_type": "execute_result"
    }
   ],
   "source": [
    "model.get_independencies()"
   ]
  },
  {
   "cell_type": "markdown",
   "metadata": {},
   "source": [
    "## Independence In Bayesian Networks"
   ]
  },
  {
   "cell_type": "markdown",
   "metadata": {},
   "source": [
    "### d-separation"
   ]
  },
  {
   "cell_type": "code",
   "execution_count": 88,
   "metadata": {},
   "outputs": [],
   "source": [
    "model2 = BayesianModel([('C', 'D'),\n",
    "                        ('D', 'G'), ('I', 'G'), ('G', 'L'), ('I', 'S'),\n",
    "                        ('L', 'J'), ('S', 'J'), ('G', 'H'), ('J', 'H')])"
   ]
  },
  {
   "cell_type": "code",
   "execution_count": 89,
   "metadata": {},
   "outputs": [
    {
     "data": {
      "image/png": "[encoded data removed]",
      "text/plain": [
       "<Figure size 432x288 with 1 Axes>"
      ]
     },
     "metadata": {},
     "output_type": "display_data"
    }
   ],
   "source": [
    "nx.draw(model2, with_labels=True, node_size=2000,\n",
    "        pos={'C': (1, 9),\n",
    "             'D': (1, 7),\n",
    "             'I': (3, 7),\n",
    "             'G': (2, 5),\n",
    "             'L': (2, 3),\n",
    "             'S': (4, 5),\n",
    "             'J': (3, 2),\n",
    "             'H': (1, 1)})\n",
    "plt.show()"
   ]
  },
  {
   "cell_type": "code",
   "execution_count": 94,
   "metadata": {},
   "outputs": [
    {
     "name": "stdout",
     "output_type": "stream",
     "text": [
      "True\n",
      "True\n",
      "True\n",
      "False\n"
     ]
    }
   ],
   "source": [
    "print(model2.is_active_trail(start='D', end='J', observed=['L', 'H', 'I']))\n",
    "print(model2.is_active_trail(start='D', end='I', observed=['L']))\n",
    "print(model2.is_active_trail(start='D', end='J', observed=['L']))\n",
    "print(model2.is_active_trail(start='D', end='J', observed=['L', 'I']))"
   ]
  },
  {
   "cell_type": "markdown",
   "metadata": {},
   "source": [
    "Any node is d-separated from its non-descendants given its parents"
   ]
  },
  {
   "cell_type": "code",
   "execution_count": 95,
   "metadata": {},
   "outputs": [
    {
     "name": "stdout",
     "output_type": "stream",
     "text": [
      "False\n"
     ]
    }
   ],
   "source": [
    "print(model2.is_active_trail(start='S', end='L', observed=['G']))"
   ]
  },
  {
   "cell_type": "markdown",
   "metadata": {},
   "source": [
    "### I-maps"
   ]
  },
  {
   "cell_type": "code",
   "execution_count": 153,
   "metadata": {},
   "outputs": [],
   "source": [
    "from pgmpy.models import BayesianModel\n",
    "from pgmpy.factors.discrete import TabularCPD\n",
    "from pgmpy.factors.discrete import JointProbabilityDistribution\n",
    "\n",
    "G1 = BayesianModel([('D', 'I')])\n",
    "diff_cpd = TabularCPD('D', 2, [[0.6], [0.4]])\n",
    "intel_cpd = TabularCPD('I', 2, [[0.7], [0.3]])\n",
    "G1.add_cpds(intel_cpd, diff_cpd)\n",
    "G1.remove_edge('D', 'I')\n",
    "\n",
    "G2 = BayesianModel([('D', 'I')])\n",
    "G2.add_cpds(diff_cpd, intel_cpd)\n",
    "\n",
    "val1 = [0.42, 0.18, 0.28, 0.12]\n",
    "val2 = [0.282, 0.02, 0.564, 0.134]\n",
    "P1 = JointProbabilityDistribution(['I', 'D'], [2, 2], val1)\n",
    "P2 = JointProbabilityDistribution(['I', 'D'], [2, 2], val2)"
   ]
  },
  {
   "cell_type": "code",
   "execution_count": 154,
   "metadata": {},
   "outputs": [
    {
     "name": "stdout",
     "output_type": "stream",
     "text": [
      "+------+------+----------+\n",
      "| I    | D    |   P(I,D) |\n",
      "+======+======+==========+\n",
      "| I(0) | D(0) |   0.4200 |\n",
      "+------+------+----------+\n",
      "| I(0) | D(1) |   0.1800 |\n",
      "+------+------+----------+\n",
      "| I(1) | D(0) |   0.2800 |\n",
      "+------+------+----------+\n",
      "| I(1) | D(1) |   0.1200 |\n",
      "+------+------+----------+\n",
      "+------+------+----------+\n",
      "| I    | D    |   P(I,D) |\n",
      "+======+======+==========+\n",
      "| I(0) | D(0) |   0.2820 |\n",
      "+------+------+----------+\n",
      "| I(0) | D(1) |   0.0200 |\n",
      "+------+------+----------+\n",
      "| I(1) | D(0) |   0.5640 |\n",
      "+------+------+----------+\n",
      "| I(1) | D(1) |   0.1340 |\n",
      "+------+------+----------+\n"
     ]
    }
   ],
   "source": [
    "print(P1)\n",
    "print(P2)"
   ]
  },
  {
   "cell_type": "code",
   "execution_count": 155,
   "metadata": {},
   "outputs": [
    {
     "data": {
      "image/png": "[encoded data removed]",
      "text/plain": [
       "<Figure size 432x288 with 1 Axes>"
      ]
     },
     "metadata": {},
     "output_type": "display_data"
    }
   ],
   "source": [
    "import networkx as nx\n",
    "import pylab as plt\n",
    "nx.draw(G1,with_labels=True, node_size=2000,\n",
    "        pos={'I': (0, 0),\n",
    "             'D': (1, 0)})\n",
    "plt.show()"
   ]
  },
  {
   "cell_type": "code",
   "execution_count": 156,
   "metadata": {},
   "outputs": [
    {
     "data": {
      "image/png": "[encoded data removed]",
      "text/plain": [
       "<Figure size 432x288 with 1 Axes>"
      ]
     },
     "metadata": {},
     "output_type": "display_data"
    }
   ],
   "source": [
    "import networkx as nx\n",
    "import pylab as plt\n",
    "nx.draw(G2,with_labels=True, node_size=2000,\n",
    "        pos={'I': (0, 0),\n",
    "             'D': (1, 0)})\n",
    "plt.show()"
   ]
  },
  {
   "cell_type": "code",
   "execution_count": 157,
   "metadata": {},
   "outputs": [
    {
     "data": {
      "text/plain": [
       "(I _|_ D)"
      ]
     },
     "execution_count": 157,
     "metadata": {},
     "output_type": "execute_result"
    }
   ],
   "source": [
    "P1.get_independencies()"
   ]
  },
  {
   "cell_type": "code",
   "execution_count": 158,
   "metadata": {},
   "outputs": [
    {
     "data": {
      "text/plain": []
     },
     "execution_count": 158,
     "metadata": {},
     "output_type": "execute_result"
    }
   ],
   "source": [
    "P2.get_independencies()"
   ]
  },
  {
   "cell_type": "code",
   "execution_count": 159,
   "metadata": {},
   "outputs": [
    {
     "data": {
      "text/plain": [
       "(D _|_ I)\n",
       "(I _|_ D)"
      ]
     },
     "execution_count": 159,
     "metadata": {},
     "output_type": "execute_result"
    }
   ],
   "source": [
    "G1.get_independencies()"
   ]
  },
  {
   "cell_type": "code",
   "execution_count": 160,
   "metadata": {},
   "outputs": [
    {
     "data": {
      "text/plain": []
     },
     "execution_count": 160,
     "metadata": {},
     "output_type": "execute_result"
    }
   ],
   "source": [
    "G2.get_independencies()"
   ]
  },
  {
   "cell_type": "code",
   "execution_count": 161,
   "metadata": {},
   "outputs": [
    {
     "name": "stdout",
     "output_type": "stream",
     "text": [
      "False\n",
      "False\n",
      "False\n",
      "False\n"
     ]
    }
   ],
   "source": [
    "# !!!! Not getting the same results as in the course !!!!\n",
    "print(G1.is_imap(P1))\n",
    "print(G1.is_imap(P2))\n",
    "print(G2.is_imap(P1))\n",
    "print(G2.is_imap(P2))"
   ]
  },
  {
   "cell_type": "code",
   "execution_count": 131,
   "metadata": {},
   "outputs": [
    {
     "data": {
      "text/plain": [
       "True"
      ]
     },
     "execution_count": 131,
     "metadata": {},
     "output_type": "execute_result"
    }
   ],
   "source": [
    "# Example from https://pgmpy.org/models.html?highlight=is_imap#pgmpy.models.BayesianModel.BayesianModel.is_imap\n",
    "from pgmpy.factors.discrete import TabularCPD\n",
    "from pgmpy.factors.discrete import JointProbabilityDistribution\n",
    "G = BayesianModel([('diff', 'grade'), ('intel', 'grade')])\n",
    "diff_cpd = TabularCPD('diff', 2, [[0.2], [0.8]])\n",
    "intel_cpd = TabularCPD('intel', 3, [[0.5], [0.3], [0.2]])\n",
    "grade_cpd = TabularCPD('grade', 3,\n",
    "                       [[0.1,0.1,0.1,0.1,0.1,0.1],\n",
    "                        [0.1,0.1,0.1,0.1,0.1,0.1],\n",
    "                         [0.8,0.8,0.8,0.8,0.8,0.8]],\n",
    "                        evidence=['diff', 'intel'],\n",
    "                        evidence_card=[2, 3])\n",
    "G.add_cpds(diff_cpd, intel_cpd, grade_cpd)\n",
    "val = [0.01, 0.01, 0.08, 0.006, 0.006, 0.048, 0.004, 0.004, 0.032,\n",
    "       0.04, 0.04, 0.32, 0.024, 0.024, 0.192, 0.016, 0.016, 0.128]\n",
    "JPD = JointProbabilityDistribution(['diff', 'intel', 'grade'], [2, 3, 3], val)\n",
    "G.is_imap(JPD)"
   ]
  },
  {
   "cell_type": "code",
   "execution_count": 162,
   "metadata": {},
   "outputs": [
    {
     "data": {
      "text/plain": [
       "(diff _|_ intel)\n",
       "(intel _|_ diff)"
      ]
     },
     "execution_count": 162,
     "metadata": {},
     "output_type": "execute_result"
    }
   ],
   "source": [
    "G.get_independencies()"
   ]
  },
  {
   "cell_type": "code",
   "execution_count": 163,
   "metadata": {},
   "outputs": [
    {
     "data": {
      "text/plain": [
       "(diff _|_ intel)\n",
       "(diff _|_ grade)\n",
       "(intel _|_ grade)"
      ]
     },
     "execution_count": 163,
     "metadata": {},
     "output_type": "execute_result"
    }
   ],
   "source": [
    "JPD.get_independencies()"
   ]
  },
  {
   "cell_type": "markdown",
   "metadata": {},
   "source": [
    "## Other"
   ]
  },
  {
   "cell_type": "code",
   "execution_count": 78,
   "metadata": {
    "collapsed": true
   },
   "outputs": [],
   "source": [
    "model3 = BayesianModel([('A', 'C'), ('B', 'C'), ('B', 'D'), ('A', 'E'), ('C', 'E')])"
   ]
  },
  {
   "cell_type": "code",
   "execution_count": 79,
   "metadata": {},
   "outputs": [
    {
     "data": {
      "image/png": "[encoded data removed]",
      "text/plain": [
       "<Figure size 432x288 with 1 Axes>"
      ]
     },
     "metadata": {},
     "output_type": "display_data"
    }
   ],
   "source": [
    "nx.draw(model3, with_labels=True, node_size=2000,\n",
    "        pos={'A': (1, 7),\n",
    "             'B': (3, 7),\n",
    "             'C': (2, 5),\n",
    "             'D': (4, 5),\n",
    "             'E': (1, 1)})\n",
    "plt.show()"
   ]
  },
  {
   "cell_type": "code",
   "execution_count": 80,
   "metadata": {},
   "outputs": [
    {
     "data": {
      "text/plain": [
       "(A _|_ B, D)\n",
       "(A _|_ D | B)\n",
       "(A _|_ B | D)\n",
       "(A _|_ D | B, C)\n",
       "(A _|_ D | B, E)\n",
       "(A _|_ D | B, C, E)\n",
       "(C _|_ D | B)\n",
       "(C _|_ D | B, A)\n",
       "(C _|_ D | B, E)\n",
       "(C _|_ D | B, A, E)\n",
       "(B _|_ A)\n",
       "(B _|_ A | D)\n",
       "(B _|_ E | C, A)\n",
       "(B _|_ E | D, C, A)\n",
       "(D _|_ A)\n",
       "(D _|_ C, E, A | B)\n",
       "(D _|_ A, E | B, C)\n",
       "(D _|_ C, A | B, E)\n",
       "(D _|_ C, E | B, A)\n",
       "(D _|_ E | C, A)\n",
       "(D _|_ A | B, C, E)\n",
       "(D _|_ E | B, C, A)\n",
       "(D _|_ C | B, A, E)\n",
       "(E _|_ D | B)\n",
       "(E _|_ D | B, C)\n",
       "(E _|_ D | B, A)\n",
       "(E _|_ B, D | C, A)\n",
       "(E _|_ D | B, C, A)\n",
       "(E _|_ B | D, C, A)"
      ]
     },
     "execution_count": 80,
     "metadata": {},
     "output_type": "execute_result"
    }
   ],
   "source": [
    "model3.get_independencies()"
   ]
  },
  {
   "cell_type": "code",
   "execution_count": 91,
   "metadata": {},
   "outputs": [
    {
     "data": {
      "text/plain": [
       "True"
      ]
     },
     "execution_count": 91,
     "metadata": {},
     "output_type": "execute_result"
    }
   ],
   "source": [
    "model3.is_active_trail(start='B', end='C', observed='E')"
   ]
  },
  {
   "cell_type": "code",
   "execution_count": null,
   "metadata": {
    "collapsed": true
   },
   "outputs": [],
   "source": []
  },
  {
   "cell_type": "code",
   "execution_count": null,
   "metadata": {
    "collapsed": true
   },
   "outputs": [],
   "source": []
  }
 ],
 "metadata": {
  "kernelspec": {
   "display_name": "Python 3",
   "language": "python",
   "name": "python3"
  },
  "language_info": {
   "codemirror_mode": {
    "name": "ipython",
    "version": 3
   },
   "file_extension": ".py",
   "mimetype": "text/x-python",
   "name": "python",
   "nbconvert_exporter": "python",
   "pygments_lexer": "ipython3",
   "version": "3.6.7"
  }
 },
 "nbformat": 4,
 "nbformat_minor": 4
}
